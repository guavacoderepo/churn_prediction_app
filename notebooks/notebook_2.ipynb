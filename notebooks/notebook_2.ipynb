{
 "cells": [
  {
   "cell_type": "code",
   "execution_count": 1,
   "id": "e1f008f6",
   "metadata": {},
   "outputs": [],
   "source": [
    "import mlflow\n",
    "import numpy as np\n",
    "from pprint import pprint\n",
    "import matplotlib.pyplot as plt\n",
    "from sklearn.metrics import accuracy_score, f1_score, precision_score, recall_score, classification_report, roc_auc_score, confusion_matrix, ConfusionMatrixDisplay\n",
    "from sklearn.tree import DecisionTreeClassifier\n",
    "from mlflow.models import infer_signature"
   ]
  },
  {
   "cell_type": "markdown",
   "id": "1fdf0eff",
   "metadata": {},
   "source": [
    "### Connect to mlflow"
   ]
  },
  {
   "cell_type": "code",
   "execution_count": 2,
   "id": "252ed5ad",
   "metadata": {},
   "outputs": [],
   "source": [
    "tracking_uri = \"http://127.0.0.1:8080\"\n",
    "mlflow.set_tracking_uri(tracking_uri)"
   ]
  },
  {
   "cell_type": "code",
   "execution_count": 3,
   "id": "dba9be09",
   "metadata": {},
   "outputs": [],
   "source": [
    "experiment_name = \"churn_prediction\"\n",
    "artifact_loc = \"data/churn_pred_models\"\n",
    "tags = {\n",
    "    \"mlflow.note.content\": f\"Customer churn prediction end-to-end pipeline using mlflow\",\n",
    "    \"team\": \"AI engineering team\",\n",
    "    \"project\": f\"churn_prediction_end_to_end project\",\n",
    "}\n",
    "\n",
    "exp = mlflow.get_experiment_by_name(experiment_name)\n",
    "if exp is None:\n",
    "    mlflow.create_experiment(name=experiment_name, tags=tags, artifact_location=artifact_loc)\n",
    "experiment_id = mlflow.get_experiment_by_name(experiment_name).experiment_id"
   ]
  },
  {
   "cell_type": "markdown",
   "id": "d8e11fbb",
   "metadata": {},
   "source": [
    "### Load dataset for training model\n"
   ]
  },
  {
   "cell_type": "code",
   "execution_count": 127,
   "id": "9228b8e7",
   "metadata": {},
   "outputs": [],
   "source": [
    "X_train = np.load(\"../data/X_train_scaled.npy\")\n",
    "X_test = np.load(\"../data/X_test_scaled.npy\")\n",
    "y_train = np.load(\"../data/y_train.npy\", allow_pickle=True)\n",
    "y_test = np.load(\"../data/y_test.npy\", allow_pickle=True)"
   ]
  },
  {
   "cell_type": "markdown",
   "id": "fd957cf3",
   "metadata": {},
   "source": [
    "### Mlflow helper function"
   ]
  },
  {
   "cell_type": "code",
   "execution_count": 128,
   "id": "300cfc38",
   "metadata": {},
   "outputs": [],
   "source": [
    "run_name = \"churn_pred\"\n",
    "\n",
    "def mlflow_logging(params, metrics, model_name, sk_model):\n",
    "    with mlflow.start_run(run_name=run_name, experiment_id=experiment_id):\n",
    "\n",
    "        # Log to mlflow\n",
    "        for key, val in params.items():\n",
    "            mlflow.log_param(key=key, value=val)\n",
    "\n",
    "        for key, val in metrics.items():\n",
    "            mlflow.log_metric(key=key, value=val)\n",
    "\n",
    "        tags = {\n",
    "            \"mlflow.note.content\": f\"{model_name} training outcome\",\n",
    "            \"model_name\": model_name\n",
    "        }\n",
    "\n",
    "        for key, val in tags.items():\n",
    "            mlflow.set_tag(key=key, value=val)\n",
    "\n",
    "        mlflow.sklearn.log_model(\n",
    "            sk_model=sk_model, \n",
    "            input_example=X_test[:5],\n",
    "            registered_model_name=f\"{model_name}_models\", \n",
    "            signature=infer_signature(X_train[:10], sk_model.predict(X_test[:5])),\n",
    "            name=f\"{model_name}_artifact\",\n",
    "        )\n",
    "        \n",
    "        print(f\"✅ Done logging {model_name}\")"
   ]
  },
  {
   "cell_type": "code",
   "execution_count": 129,
   "id": "2e0b5606",
   "metadata": {},
   "outputs": [],
   "source": [
    "rs = 42 # Random state"
   ]
  },
  {
   "cell_type": "markdown",
   "id": "cc7f5e0e",
   "metadata": {},
   "source": [
    "### Let's build out base model using decision tree"
   ]
  },
  {
   "cell_type": "code",
   "execution_count": 130,
   "id": "4b73cf73",
   "metadata": {},
   "outputs": [
    {
     "name": "stdout",
     "output_type": "stream",
     "text": [
      "{'accuracy': 0.8794772507260407, 'f1': 0.8880898876404495, 'recall': 0.946360153256705, 'precision': 0.8365791701947503}\n"
     ]
    },
    {
     "name": "stderr",
     "output_type": "stream",
     "text": [
      "Successfully registered model 'decision_tree_models'.\n",
      "2025/09/21 22:39:41 INFO mlflow.store.model_registry.abstract_store: Waiting up to 300 seconds for model version to finish creation. Model name: decision_tree_models, version 1\n",
      "Created version '1' of model 'decision_tree_models'.\n"
     ]
    },
    {
     "name": "stdout",
     "output_type": "stream",
     "text": [
      "✅ Done logging decision_tree\n",
      "🏃 View run churn_pred at: http://127.0.0.1:8080/#/experiments/484940664715997483/runs/20b5d23544cc454397d3634283a64f44\n",
      "🧪 View experiment at: http://127.0.0.1:8080/#/experiments/484940664715997483\n"
     ]
    }
   ],
   "source": [
    "model_name = \"decision_tree\"\n",
    "\n",
    "# Train out model\n",
    "dtc_m1_params = {\"max_depth\":None, \"criterion\":'gini', \"random_state\":rs}\n",
    "dtc_m1_model = DecisionTreeClassifier(**dtc_m1_params)\n",
    "\n",
    "dtc_m1_model = dtc_m1_model.fit(X=X_train, y=y_train)\n",
    "y_pred = dtc_m1_model.predict(X=X_test)\n",
    "\n",
    "# Metrics\n",
    "dtc_m1_metrics = {\n",
    "    \"accuracy\": accuracy_score(y_test, y_pred),\n",
    "    \"f1\": f1_score(y_test, y_pred),\n",
    "    \"recall\": recall_score(y_test, y_pred),\n",
    "    \"precision\": precision_score(y_test, y_pred)\n",
    "}\n",
    "\n",
    "print(dtc_m1_metrics)\n",
    "# Logging to mlflow\n",
    "mlflow_logging(dtc_m1_params, dtc_m1_metrics, model_name, dtc_m1_model)"
   ]
  },
  {
   "cell_type": "code",
   "execution_count": 131,
   "id": "28dee5b5",
   "metadata": {},
   "outputs": [
    {
     "name": "stdout",
     "output_type": "stream",
     "text": [
      "              precision    recall  f1-score   support\n",
      "\n",
      "           0       0.94      0.81      0.87      1022\n",
      "           1       0.84      0.95      0.89      1044\n",
      "\n",
      "    accuracy                           0.88      2066\n",
      "   macro avg       0.89      0.88      0.88      2066\n",
      "weighted avg       0.89      0.88      0.88      2066\n",
      "\n",
      "ROC-AUC: 0.8787573760412684\n"
     ]
    },
    {
     "data": {
      "image/png": "[encoded data removed]",
      "text/plain": [
       "<Figure size 640x480 with 2 Axes>"
      ]
     },
     "metadata": {},
     "output_type": "display_data"
    }
   ],
   "source": [
    "print(classification_report(y_test, y_pred))\n",
    "print(\"ROC-AUC:\", roc_auc_score(y_test, y_pred))\n",
    "cm = confusion_matrix(y_test, y_pred)\n",
    "\n",
    "disp = ConfusionMatrixDisplay(confusion_matrix=cm, display_labels=dtc_m1_model.classes_)\n",
    "disp.plot();"
   ]
  },
  {
   "cell_type": "markdown",
   "id": "0a1243da",
   "metadata": {},
   "source": [
    "# Now let's fine tune hyperparametr and retrain"
   ]
  },
  {
   "cell_type": "code",
   "execution_count": 132,
   "id": "97bfcbd1",
   "metadata": {},
   "outputs": [],
   "source": [
    "import optuna\n",
    "optuna.logging.set_verbosity(optuna.logging.WARNING) \n",
    "\n",
    "n_trials = 100\n",
    "\n",
    "def objective(trial):\n",
    "    # Suggest hyperparameters\n",
    "    params = {\n",
    "        \"max_depth\": trial.suggest_int(\"max_depth\", 2, 20),\n",
    "        \"min_samples_split\": trial.suggest_int(\"min_samples_split\", 2, 20),\n",
    "        \"min_samples_leaf\": trial.suggest_int(\"min_samples_leaf\", 1, 20),\n",
    "        \"criterion\": trial.suggest_categorical(\"criterion\", [\"entropy\", \"gini\"]),\n",
    "        \"random_state\":rs\n",
    "    }\n",
    "\n",
    "    model = DecisionTreeClassifier(**params)\n",
    "    model = model.fit(X=X_train, y=y_train)\n",
    "    y_pred = model.predict(X=X_test)\n",
    "\n",
    "    acc = accuracy_score(y_test, y_pred)\n",
    "\n",
    "    return acc\n",
    "\n",
    "study = optuna.create_study(direction=\"maximize\")\n",
    "study.optimize(objective, n_trials=n_trials, n_jobs=1)"
   ]
  },
  {
   "cell_type": "code",
   "execution_count": 133,
   "id": "fc651cdf",
   "metadata": {},
   "outputs": [
    {
     "name": "stdout",
     "output_type": "stream",
     "text": [
      "{'accuracy': 0.8741529525653436, 'f1': 0.8834080717488789, 'recall': 0.9434865900383141, 'precision': 0.8305227655986509}\n"
     ]
    },
    {
     "name": "stderr",
     "output_type": "stream",
     "text": [
      "Registered model 'decision_tree_models' already exists. Creating a new version of this model...\n",
      "2025/09/21 22:39:55 INFO mlflow.store.model_registry.abstract_store: Waiting up to 300 seconds for model version to finish creation. Model name: decision_tree_models, version 2\n",
      "Created version '2' of model 'decision_tree_models'.\n"
     ]
    },
    {
     "name": "stdout",
     "output_type": "stream",
     "text": [
      "✅ Done logging decision_tree\n",
      "🏃 View run churn_pred at: http://127.0.0.1:8080/#/experiments/484940664715997483/runs/c037b68b56354929a29a3457dd8fa4a0\n",
      "🧪 View experiment at: http://127.0.0.1:8080/#/experiments/484940664715997483\n"
     ]
    }
   ],
   "source": [
    "dtc_m2_model = DecisionTreeClassifier(**study.best_params)\n",
    "dtc_m2_model = dtc_m2_model.fit(X=X_train, y=y_train)\n",
    "y_pred = dtc_m2_model.predict(X=X_test)\n",
    "\n",
    "# Metrics\n",
    "dtc_m2_metrics = {\n",
    "    \"accuracy\": accuracy_score(y_test, y_pred),\n",
    "    \"f1\": f1_score(y_test, y_pred),\n",
    "    \"recall\": recall_score(y_test, y_pred),\n",
    "    \"precision\": precision_score(y_test, y_pred)\n",
    "}\n",
    "\n",
    "print(dtc_m2_metrics)\n",
    "# Logging to mlflow\n",
    "mlflow_logging(study.best_params, dtc_m2_metrics, model_name, dtc_m2_model)"
   ]
  },
  {
   "cell_type": "code",
   "execution_count": 134,
   "id": "5b475004",
   "metadata": {},
   "outputs": [
    {
     "name": "stdout",
     "output_type": "stream",
     "text": [
      "              precision    recall  f1-score   support\n",
      "\n",
      "           0       0.93      0.80      0.86      1022\n",
      "           1       0.83      0.94      0.88      1044\n",
      "\n",
      "    accuracy                           0.87      2066\n",
      "   macro avg       0.88      0.87      0.87      2066\n",
      "weighted avg       0.88      0.87      0.87      2066\n",
      "\n",
      "ROC-AUC: 0.8734067001072198\n"
     ]
    },
    {
     "data": {
      "image/png": "[encoded data removed]",
      "text/plain": [
       "<Figure size 640x480 with 2 Axes>"
      ]
     },
     "metadata": {},
     "output_type": "display_data"
    }
   ],
   "source": [
    "print(classification_report(y_test, y_pred))\n",
    "print(\"ROC-AUC:\", roc_auc_score(y_test, y_pred))\n",
    "cm = confusion_matrix(y_test, y_pred)\n",
    "\n",
    "disp = ConfusionMatrixDisplay(confusion_matrix=cm, display_labels=dtc_m2_model.classes_)\n",
    "disp.plot();"
   ]
  },
  {
   "cell_type": "markdown",
   "id": "89a9ede4",
   "metadata": {},
   "source": [
    "## Lets try random forest"
   ]
  },
  {
   "cell_type": "code",
   "execution_count": 135,
   "id": "f6fb5480",
   "metadata": {},
   "outputs": [
    {
     "name": "stdout",
     "output_type": "stream",
     "text": [
      "{'accuracy': 0.8407550822846079, 'f1': 0.8533214444939813, 'recall': 0.9166666666666666, 'precision': 0.7981651376146789}\n"
     ]
    },
    {
     "name": "stderr",
     "output_type": "stream",
     "text": [
      "Successfully registered model 'random_forest_models'.\n",
      "2025/09/21 22:40:01 INFO mlflow.store.model_registry.abstract_store: Waiting up to 300 seconds for model version to finish creation. Model name: random_forest_models, version 1\n",
      "Created version '1' of model 'random_forest_models'.\n"
     ]
    },
    {
     "name": "stdout",
     "output_type": "stream",
     "text": [
      "✅ Done logging random_forest\n",
      "🏃 View run churn_pred at: http://127.0.0.1:8080/#/experiments/484940664715997483/runs/442bb5efdee643b39e13c012631efead\n",
      "🧪 View experiment at: http://127.0.0.1:8080/#/experiments/484940664715997483\n"
     ]
    }
   ],
   "source": [
    "from sklearn.ensemble import RandomForestClassifier\n",
    "\n",
    "model_name = \"random_forest\"\n",
    "\n",
    "rfc_m1_params = {\n",
    "    \"n_estimators\":50, \"criterion\":\"gini\", \"max_depth\":10, \"class_weight\":'balanced_subsample', \"random_state\":rs\n",
    "}\n",
    "\n",
    "y_train_rev = y_train.ravel()\n",
    "y_test_rev = y_test.ravel()\n",
    "\n",
    "rfc_m1_model = RandomForestClassifier(**rfc_m1_params)\n",
    "rfc_m1_model = rfc_m1_model.fit(X_train, y_train_rev)\n",
    "y_pred = rfc_m1_model.predict(X_test)\n",
    "\n",
    "# Metrics\n",
    "rfc_m1_metrics = {\n",
    "    \"accuracy\": accuracy_score(y_test_rev, y_pred),\n",
    "    \"f1\": f1_score(y_test_rev, y_pred),\n",
    "    \"recall\": recall_score(y_test_rev, y_pred),\n",
    "    \"precision\": precision_score(y_test_rev, y_pred)\n",
    "}\n",
    "\n",
    "print(rfc_m1_metrics)\n",
    "# Logging to mlflow\n",
    "mlflow_logging(rfc_m1_metrics, rfc_m1_metrics, model_name, rfc_m1_model)"
   ]
  },
  {
   "cell_type": "code",
   "execution_count": 136,
   "id": "ac00e761",
   "metadata": {},
   "outputs": [
    {
     "name": "stdout",
     "output_type": "stream",
     "text": [
      "              precision    recall  f1-score   support\n",
      "\n",
      "           0       0.90      0.76      0.83      1022\n",
      "           1       0.80      0.92      0.85      1044\n",
      "\n",
      "    accuracy                           0.84      2066\n",
      "   macro avg       0.85      0.84      0.84      2066\n",
      "weighted avg       0.85      0.84      0.84      2066\n",
      "\n",
      "ROC-AUC: 0.8399380300065231\n"
     ]
    },
    {
     "data": {
      "image/png": "[encoded data removed]",
      "text/plain": [
       "<Figure size 640x480 with 2 Axes>"
      ]
     },
     "metadata": {},
     "output_type": "display_data"
    }
   ],
   "source": [
    "print(classification_report(y_test, y_pred))\n",
    "print(\"ROC-AUC:\", roc_auc_score(y_test, y_pred))\n",
    "cm = confusion_matrix(y_test, y_pred)\n",
    "\n",
    "disp = ConfusionMatrixDisplay(confusion_matrix=cm, display_labels=rfc_m1_model.classes_)\n",
    "disp.plot();"
   ]
  },
  {
   "cell_type": "markdown",
   "id": "291f68ef",
   "metadata": {},
   "source": [
    "## Let's optimize the hyperparameters "
   ]
  },
  {
   "cell_type": "code",
   "execution_count": 137,
   "id": "39a337d2",
   "metadata": {},
   "outputs": [],
   "source": [
    "def objective(trial):\n",
    "    # Suggest hyperparameters\n",
    "    params = {\n",
    "        \"max_depth\": trial.suggest_int(\"max_depth\", 2, 20),\n",
    "        \"n_estimators\": trial.suggest_int(\"n_estimators\", 10, 150),\n",
    "        \"min_samples_leaf\": trial.suggest_int(\"min_samples_leaf\", 1, 20),\n",
    "        \"min_samples_split\": trial.suggest_int(\"min_samples_split\", 2, 20),\n",
    "        \"criterion\": trial.suggest_categorical(\"criterion\", [\"entropy\", \"gini\", \"log_loss\"]),\n",
    "        \"random_state\":rs\n",
    "    }\n",
    "\n",
    "    model = RandomForestClassifier(**params)\n",
    "    model = model.fit(X_train, y_train_rev)\n",
    "    y_pred = model.predict(X_test)\n",
    "\n",
    "    acc = accuracy_score(y_test_rev, y_pred)\n",
    "\n",
    "    return acc\n",
    "\n",
    "study = optuna.create_study(direction=\"maximize\")\n",
    "study.optimize(objective, n_trials=n_trials, n_jobs=1)"
   ]
  },
  {
   "cell_type": "code",
   "execution_count": 138,
   "id": "69d989fb",
   "metadata": {},
   "outputs": [
    {
     "name": "stdout",
     "output_type": "stream",
     "text": [
      "{'accuracy': 0.888189738625363, 'f1': 0.8970129291127954, 'recall': 0.9636015325670498, 'precision': 0.8390325271059216}\n"
     ]
    },
    {
     "name": "stderr",
     "output_type": "stream",
     "text": [
      "Registered model 'random_forest_models' already exists. Creating a new version of this model...\n",
      "2025/09/21 22:41:13 INFO mlflow.store.model_registry.abstract_store: Waiting up to 300 seconds for model version to finish creation. Model name: random_forest_models, version 2\n",
      "Created version '2' of model 'random_forest_models'.\n"
     ]
    },
    {
     "name": "stdout",
     "output_type": "stream",
     "text": [
      "✅ Done logging random_forest\n",
      "🏃 View run churn_pred at: http://127.0.0.1:8080/#/experiments/484940664715997483/runs/78522b41d6d84ed483c0697090aeba8d\n",
      "🧪 View experiment at: http://127.0.0.1:8080/#/experiments/484940664715997483\n"
     ]
    }
   ],
   "source": [
    "rfc_m2_model = RandomForestClassifier(**study.best_params)\n",
    "rfc_m2_model = rfc_m2_model.fit(X=X_train, y=y_train_rev)\n",
    "y_pred = rfc_m2_model.predict(X=X_test)\n",
    "\n",
    "# Metrics\n",
    "rfc_m2_metrics = {\n",
    "    \"accuracy\": accuracy_score(y_test_rev, y_pred),\n",
    "    \"f1\": f1_score(y_test_rev, y_pred),\n",
    "    \"recall\": recall_score(y_test_rev, y_pred),\n",
    "    \"precision\": precision_score(y_test_rev, y_pred)\n",
    "}\n",
    "\n",
    "print(rfc_m2_metrics)\n",
    "# Logging to mlflow\n",
    "mlflow_logging(study.best_params, rfc_m2_metrics, model_name, rfc_m2_model)"
   ]
  },
  {
   "cell_type": "code",
   "execution_count": 139,
   "id": "080476ac",
   "metadata": {},
   "outputs": [
    {
     "name": "stdout",
     "output_type": "stream",
     "text": [
      "              precision    recall  f1-score   support\n",
      "\n",
      "           0       0.96      0.81      0.88      1022\n",
      "           1       0.84      0.96      0.90      1044\n",
      "\n",
      "    accuracy                           0.89      2066\n",
      "   macro avg       0.90      0.89      0.89      2066\n",
      "weighted avg       0.90      0.89      0.89      2066\n",
      "\n",
      "ROC-AUC: 0.8873780656964407\n"
     ]
    },
    {
     "data": {
      "image/png": "[encoded data removed]",
      "text/plain": [
       "<Figure size 640x480 with 2 Axes>"
      ]
     },
     "metadata": {},
     "output_type": "display_data"
    }
   ],
   "source": [
    "print(classification_report(y_test, y_pred))\n",
    "print(\"ROC-AUC:\", roc_auc_score(y_test, y_pred))\n",
    "cm = confusion_matrix(y_test, y_pred)\n",
    "\n",
    "disp = ConfusionMatrixDisplay(confusion_matrix=cm, display_labels=rfc_m2_model.classes_)\n",
    "disp.plot();"
   ]
  },
  {
   "cell_type": "markdown",
   "id": "da1f6246",
   "metadata": {},
   "source": [
    "## Let's try DNN - LSTM"
   ]
  },
  {
   "cell_type": "code",
   "execution_count": 140,
   "id": "a97ffb45",
   "metadata": {},
   "outputs": [
    {
     "name": "stdout",
     "output_type": "stream",
     "text": [
      "(8260, 1, 19) (2066, 1, 19)\n"
     ]
    }
   ],
   "source": [
    "# reshape to (samples, timesteps=1, features)\n",
    "X_train_lstm = np.expand_dims(X_train, axis=1)\n",
    "X_test_lstm = np.expand_dims(X_test, axis=1)\n",
    "\n",
    "print(X_train_lstm.shape, X_test_lstm.shape)"
   ]
  },
  {
   "cell_type": "code",
   "execution_count": 142,
   "id": "1bc5926d",
   "metadata": {},
   "outputs": [
    {
     "name": "stdout",
     "output_type": "stream",
     "text": [
      "Epoch 1/80\n",
      "\u001b[1m133/133\u001b[0m \u001b[32m━━━━━━━━━━━━━━━━━━━━\u001b[0m\u001b[37m\u001b[0m \u001b[1m4s\u001b[0m 8ms/step - accuracy: 0.7368 - loss: 0.5505 - val_accuracy: 0.7603 - val_loss: 0.4945\n",
      "Epoch 2/80\n",
      "\u001b[1m133/133\u001b[0m \u001b[32m━━━━━━━━━━━━━━━━━━━━\u001b[0m\u001b[37m\u001b[0m \u001b[1m1s\u001b[0m 5ms/step - accuracy: 0.7573 - loss: 0.4949 - val_accuracy: 0.7651 - val_loss: 0.4872\n",
      "Epoch 3/80\n",
      "\u001b[1m133/133\u001b[0m \u001b[32m━━━━━━━━━━━━━━━━━━━━\u001b[0m\u001b[37m\u001b[0m \u001b[1m1s\u001b[0m 6ms/step - accuracy: 0.7613 - loss: 0.4910 - val_accuracy: 0.7651 - val_loss: 0.4824\n",
      "Epoch 4/80\n",
      "\u001b[1m133/133\u001b[0m \u001b[32m━━━━━━━━━━━━━━━━━━━━\u001b[0m\u001b[37m\u001b[0m \u001b[1m1s\u001b[0m 5ms/step - accuracy: 0.7620 - loss: 0.4888 - val_accuracy: 0.7676 - val_loss: 0.4810\n",
      "Epoch 5/80\n",
      "\u001b[1m133/133\u001b[0m \u001b[32m━━━━━━━━━━━━━━━━━━━━\u001b[0m\u001b[37m\u001b[0m \u001b[1m1s\u001b[0m 6ms/step - accuracy: 0.7594 - loss: 0.4903 - val_accuracy: 0.7694 - val_loss: 0.4818\n",
      "Epoch 6/80\n",
      "\u001b[1m133/133\u001b[0m \u001b[32m━━━━━━━━━━━━━━━━━━━━\u001b[0m\u001b[37m\u001b[0m \u001b[1m1s\u001b[0m 8ms/step - accuracy: 0.7621 - loss: 0.4859 - val_accuracy: 0.7651 - val_loss: 0.4824\n",
      "Epoch 7/80\n",
      "\u001b[1m133/133\u001b[0m \u001b[32m━━━━━━━━━━━━━━━━━━━━\u001b[0m\u001b[37m\u001b[0m \u001b[1m1s\u001b[0m 5ms/step - accuracy: 0.7642 - loss: 0.4840 - val_accuracy: 0.7651 - val_loss: 0.4791\n",
      "Epoch 8/80\n",
      "\u001b[1m133/133\u001b[0m \u001b[32m━━━━━━━━━━━━━━━━━━━━\u001b[0m\u001b[37m\u001b[0m \u001b[1m1s\u001b[0m 5ms/step - accuracy: 0.7636 - loss: 0.4841 - val_accuracy: 0.7657 - val_loss: 0.4834\n",
      "Epoch 9/80\n",
      "\u001b[1m133/133\u001b[0m \u001b[32m━━━━━━━━━━━━━━━━━━━━\u001b[0m\u001b[37m\u001b[0m \u001b[1m1s\u001b[0m 5ms/step - accuracy: 0.7613 - loss: 0.4828 - val_accuracy: 0.7663 - val_loss: 0.4870\n",
      "Epoch 10/80\n",
      "\u001b[1m133/133\u001b[0m \u001b[32m━━━━━━━━━━━━━━━━━━━━\u001b[0m\u001b[37m\u001b[0m \u001b[1m1s\u001b[0m 5ms/step - accuracy: 0.7595 - loss: 0.4832 - val_accuracy: 0.7639 - val_loss: 0.4775\n",
      "Epoch 11/80\n",
      "\u001b[1m133/133\u001b[0m \u001b[32m━━━━━━━━━━━━━━━━━━━━\u001b[0m\u001b[37m\u001b[0m \u001b[1m1s\u001b[0m 6ms/step - accuracy: 0.7638 - loss: 0.4785 - val_accuracy: 0.7712 - val_loss: 0.4815\n",
      "Epoch 12/80\n",
      "\u001b[1m133/133\u001b[0m \u001b[32m━━━━━━━━━━━━━━━━━━━━\u001b[0m\u001b[37m\u001b[0m \u001b[1m1s\u001b[0m 6ms/step - accuracy: 0.7645 - loss: 0.4793 - val_accuracy: 0.7742 - val_loss: 0.4748\n",
      "Epoch 13/80\n",
      "\u001b[1m133/133\u001b[0m \u001b[32m━━━━━━━━━━━━━━━━━━━━\u001b[0m\u001b[37m\u001b[0m \u001b[1m1s\u001b[0m 8ms/step - accuracy: 0.7677 - loss: 0.4780 - val_accuracy: 0.7730 - val_loss: 0.4750\n",
      "Epoch 14/80\n",
      "\u001b[1m133/133\u001b[0m \u001b[32m━━━━━━━━━━━━━━━━━━━━\u001b[0m\u001b[37m\u001b[0m \u001b[1m1s\u001b[0m 6ms/step - accuracy: 0.7673 - loss: 0.4783 - val_accuracy: 0.7772 - val_loss: 0.4732\n",
      "Epoch 15/80\n",
      "\u001b[1m133/133\u001b[0m \u001b[32m━━━━━━━━━━━━━━━━━━━━\u001b[0m\u001b[37m\u001b[0m \u001b[1m1s\u001b[0m 6ms/step - accuracy: 0.7703 - loss: 0.4753 - val_accuracy: 0.7748 - val_loss: 0.4757\n",
      "Epoch 16/80\n",
      "\u001b[1m133/133\u001b[0m \u001b[32m━━━━━━━━━━━━━━━━━━━━\u001b[0m\u001b[37m\u001b[0m \u001b[1m1s\u001b[0m 6ms/step - accuracy: 0.7650 - loss: 0.4753 - val_accuracy: 0.7809 - val_loss: 0.4723\n",
      "Epoch 17/80\n",
      "\u001b[1m133/133\u001b[0m \u001b[32m━━━━━━━━━━━━━━━━━━━━\u001b[0m\u001b[37m\u001b[0m \u001b[1m1s\u001b[0m 6ms/step - accuracy: 0.7703 - loss: 0.4752 - val_accuracy: 0.7694 - val_loss: 0.4747\n",
      "Epoch 18/80\n",
      "\u001b[1m133/133\u001b[0m \u001b[32m━━━━━━━━━━━━━━━━━━━━\u001b[0m\u001b[37m\u001b[0m \u001b[1m1s\u001b[0m 6ms/step - accuracy: 0.7682 - loss: 0.4746 - val_accuracy: 0.7700 - val_loss: 0.4716\n",
      "Epoch 19/80\n",
      "\u001b[1m133/133\u001b[0m \u001b[32m━━━━━━━━━━━━━━━━━━━━\u001b[0m\u001b[37m\u001b[0m \u001b[1m1s\u001b[0m 5ms/step - accuracy: 0.7676 - loss: 0.4752 - val_accuracy: 0.7651 - val_loss: 0.4769\n",
      "Epoch 20/80\n",
      "\u001b[1m133/133\u001b[0m \u001b[32m━━━━━━━━━━━━━━━━━━━━\u001b[0m\u001b[37m\u001b[0m \u001b[1m1s\u001b[0m 5ms/step - accuracy: 0.7729 - loss: 0.4723 - val_accuracy: 0.7742 - val_loss: 0.4723\n",
      "Epoch 21/80\n",
      "\u001b[1m133/133\u001b[0m \u001b[32m━━━━━━━━━━━━━━━━━━━━\u001b[0m\u001b[37m\u001b[0m \u001b[1m1s\u001b[0m 5ms/step - accuracy: 0.7663 - loss: 0.4735 - val_accuracy: 0.7797 - val_loss: 0.4693\n",
      "Epoch 22/80\n",
      "\u001b[1m133/133\u001b[0m \u001b[32m━━━━━━━━━━━━━━━━━━━━\u001b[0m\u001b[37m\u001b[0m \u001b[1m1s\u001b[0m 6ms/step - accuracy: 0.7735 - loss: 0.4720 - val_accuracy: 0.7766 - val_loss: 0.4708\n",
      "Epoch 23/80\n",
      "\u001b[1m133/133\u001b[0m \u001b[32m━━━━━━━━━━━━━━━━━━━━\u001b[0m\u001b[37m\u001b[0m \u001b[1m1s\u001b[0m 6ms/step - accuracy: 0.7697 - loss: 0.4722 - val_accuracy: 0.7797 - val_loss: 0.4693\n",
      "Epoch 24/80\n",
      "\u001b[1m133/133\u001b[0m \u001b[32m━━━━━━━━━━━━━━━━━━━━\u001b[0m\u001b[37m\u001b[0m \u001b[1m1s\u001b[0m 6ms/step - accuracy: 0.7704 - loss: 0.4692 - val_accuracy: 0.7821 - val_loss: 0.4695\n",
      "Epoch 25/80\n",
      "\u001b[1m133/133\u001b[0m \u001b[32m━━━━━━━━━━━━━━━━━━━━\u001b[0m\u001b[37m\u001b[0m \u001b[1m1s\u001b[0m 6ms/step - accuracy: 0.7682 - loss: 0.4709 - val_accuracy: 0.7791 - val_loss: 0.4732\n",
      "Epoch 26/80\n",
      "\u001b[1m133/133\u001b[0m \u001b[32m━━━━━━━━━━━━━━━━━━━━\u001b[0m\u001b[37m\u001b[0m \u001b[1m1s\u001b[0m 6ms/step - accuracy: 0.7732 - loss: 0.4693 - val_accuracy: 0.7833 - val_loss: 0.4679\n",
      "Epoch 27/80\n",
      "\u001b[1m133/133\u001b[0m \u001b[32m━━━━━━━━━━━━━━━━━━━━\u001b[0m\u001b[37m\u001b[0m \u001b[1m1s\u001b[0m 5ms/step - accuracy: 0.7716 - loss: 0.4701 - val_accuracy: 0.7603 - val_loss: 0.4802\n",
      "Epoch 28/80\n",
      "\u001b[1m133/133\u001b[0m \u001b[32m━━━━━━━━━━━━━━━━━━━━\u001b[0m\u001b[37m\u001b[0m \u001b[1m1s\u001b[0m 5ms/step - accuracy: 0.7688 - loss: 0.4696 - val_accuracy: 0.7676 - val_loss: 0.4714\n",
      "Epoch 29/80\n",
      "\u001b[1m133/133\u001b[0m \u001b[32m━━━━━━━━━━━━━━━━━━━━\u001b[0m\u001b[37m\u001b[0m \u001b[1m1s\u001b[0m 5ms/step - accuracy: 0.7700 - loss: 0.4703 - val_accuracy: 0.7682 - val_loss: 0.4746\n",
      "Epoch 30/80\n",
      "\u001b[1m133/133\u001b[0m \u001b[32m━━━━━━━━━━━━━━━━━━━━\u001b[0m\u001b[37m\u001b[0m \u001b[1m1s\u001b[0m 5ms/step - accuracy: 0.7735 - loss: 0.4688 - val_accuracy: 0.7633 - val_loss: 0.4700\n",
      "Epoch 31/80\n",
      "\u001b[1m133/133\u001b[0m \u001b[32m━━━━━━━━━━━━━━━━━━━━\u001b[0m\u001b[37m\u001b[0m \u001b[1m1s\u001b[0m 6ms/step - accuracy: 0.7704 - loss: 0.4687 - val_accuracy: 0.7657 - val_loss: 0.4702\n",
      "Epoch 32/80\n",
      "\u001b[1m133/133\u001b[0m \u001b[32m━━━━━━━━━━━━━━━━━━━━\u001b[0m\u001b[37m\u001b[0m \u001b[1m1s\u001b[0m 7ms/step - accuracy: 0.7733 - loss: 0.4663 - val_accuracy: 0.7706 - val_loss: 0.4687\n",
      "Epoch 33/80\n",
      "\u001b[1m133/133\u001b[0m \u001b[32m━━━━━━━━━━━━━━━━━━━━\u001b[0m\u001b[37m\u001b[0m \u001b[1m1s\u001b[0m 5ms/step - accuracy: 0.7732 - loss: 0.4661 - val_accuracy: 0.7718 - val_loss: 0.4679\n",
      "Epoch 34/80\n",
      "\u001b[1m133/133\u001b[0m \u001b[32m━━━━━━━━━━━━━━━━━━━━\u001b[0m\u001b[37m\u001b[0m \u001b[1m1s\u001b[0m 6ms/step - accuracy: 0.7736 - loss: 0.4651 - val_accuracy: 0.7718 - val_loss: 0.4700\n",
      "Epoch 35/80\n",
      "\u001b[1m133/133\u001b[0m \u001b[32m━━━━━━━━━━━━━━━━━━━━\u001b[0m\u001b[37m\u001b[0m \u001b[1m1s\u001b[0m 6ms/step - accuracy: 0.7695 - loss: 0.4658 - val_accuracy: 0.7712 - val_loss: 0.4682\n",
      "Epoch 36/80\n",
      "\u001b[1m133/133\u001b[0m \u001b[32m━━━━━━━━━━━━━━━━━━━━\u001b[0m\u001b[37m\u001b[0m \u001b[1m1s\u001b[0m 6ms/step - accuracy: 0.7756 - loss: 0.4641 - val_accuracy: 0.7797 - val_loss: 0.4676\n",
      "Epoch 37/80\n",
      "\u001b[1m133/133\u001b[0m \u001b[32m━━━━━━━━━━━━━━━━━━━━\u001b[0m\u001b[37m\u001b[0m \u001b[1m1s\u001b[0m 5ms/step - accuracy: 0.7730 - loss: 0.4622 - val_accuracy: 0.7772 - val_loss: 0.4665\n",
      "Epoch 38/80\n",
      "\u001b[1m133/133\u001b[0m \u001b[32m━━━━━━━━━━━━━━━━━━━━\u001b[0m\u001b[37m\u001b[0m \u001b[1m1s\u001b[0m 7ms/step - accuracy: 0.7747 - loss: 0.4628 - val_accuracy: 0.7706 - val_loss: 0.4661\n",
      "Epoch 39/80\n",
      "\u001b[1m133/133\u001b[0m \u001b[32m━━━━━━━━━━━━━━━━━━━━\u001b[0m\u001b[37m\u001b[0m \u001b[1m1s\u001b[0m 5ms/step - accuracy: 0.7719 - loss: 0.4619 - val_accuracy: 0.7791 - val_loss: 0.4663\n",
      "Epoch 40/80\n",
      "\u001b[1m133/133\u001b[0m \u001b[32m━━━━━━━━━━━━━━━━━━━━\u001b[0m\u001b[37m\u001b[0m \u001b[1m1s\u001b[0m 5ms/step - accuracy: 0.7760 - loss: 0.4623 - val_accuracy: 0.7669 - val_loss: 0.4741\n",
      "Epoch 41/80\n",
      "\u001b[1m133/133\u001b[0m \u001b[32m━━━━━━━━━━━━━━━━━━━━\u001b[0m\u001b[37m\u001b[0m \u001b[1m1s\u001b[0m 6ms/step - accuracy: 0.7730 - loss: 0.4625 - val_accuracy: 0.7778 - val_loss: 0.4642\n",
      "Epoch 42/80\n",
      "\u001b[1m133/133\u001b[0m \u001b[32m━━━━━━━━━━━━━━━━━━━━\u001b[0m\u001b[37m\u001b[0m \u001b[1m1s\u001b[0m 5ms/step - accuracy: 0.7777 - loss: 0.4602 - val_accuracy: 0.7766 - val_loss: 0.4638\n",
      "Epoch 43/80\n",
      "\u001b[1m133/133\u001b[0m \u001b[32m━━━━━━━━━━━━━━━━━━━━\u001b[0m\u001b[37m\u001b[0m \u001b[1m1s\u001b[0m 7ms/step - accuracy: 0.7745 - loss: 0.4593 - val_accuracy: 0.7742 - val_loss: 0.4659\n",
      "Epoch 44/80\n",
      "\u001b[1m133/133\u001b[0m \u001b[32m━━━━━━━━━━━━━━━━━━━━\u001b[0m\u001b[37m\u001b[0m \u001b[1m1s\u001b[0m 6ms/step - accuracy: 0.7778 - loss: 0.4599 - val_accuracy: 0.7785 - val_loss: 0.4635\n",
      "Epoch 45/80\n",
      "\u001b[1m133/133\u001b[0m \u001b[32m━━━━━━━━━━━━━━━━━━━━\u001b[0m\u001b[37m\u001b[0m \u001b[1m1s\u001b[0m 7ms/step - accuracy: 0.7778 - loss: 0.4587 - val_accuracy: 0.7815 - val_loss: 0.4647\n",
      "Epoch 46/80\n",
      "\u001b[1m133/133\u001b[0m \u001b[32m━━━━━━━━━━━━━━━━━━━━\u001b[0m\u001b[37m\u001b[0m \u001b[1m1s\u001b[0m 5ms/step - accuracy: 0.7769 - loss: 0.4575 - val_accuracy: 0.7827 - val_loss: 0.4633\n",
      "Epoch 47/80\n",
      "\u001b[1m133/133\u001b[0m \u001b[32m━━━━━━━━━━━━━━━━━━━━\u001b[0m\u001b[37m\u001b[0m \u001b[1m1s\u001b[0m 6ms/step - accuracy: 0.7765 - loss: 0.4582 - val_accuracy: 0.7809 - val_loss: 0.4618\n",
      "Epoch 48/80\n",
      "\u001b[1m133/133\u001b[0m \u001b[32m━━━━━━━━━━━━━━━━━━━━\u001b[0m\u001b[37m\u001b[0m \u001b[1m1s\u001b[0m 6ms/step - accuracy: 0.7781 - loss: 0.4564 - val_accuracy: 0.7797 - val_loss: 0.4620\n",
      "Epoch 49/80\n",
      "\u001b[1m133/133\u001b[0m \u001b[32m━━━━━━━━━━━━━━━━━━━━\u001b[0m\u001b[37m\u001b[0m \u001b[1m1s\u001b[0m 5ms/step - accuracy: 0.7791 - loss: 0.4563 - val_accuracy: 0.7724 - val_loss: 0.4623\n",
      "Epoch 50/80\n",
      "\u001b[1m133/133\u001b[0m \u001b[32m━━━━━━━━━━━━━━━━━━━━\u001b[0m\u001b[37m\u001b[0m \u001b[1m1s\u001b[0m 6ms/step - accuracy: 0.7788 - loss: 0.4537 - val_accuracy: 0.7730 - val_loss: 0.4627\n",
      "Epoch 51/80\n",
      "\u001b[1m133/133\u001b[0m \u001b[32m━━━━━━━━━━━━━━━━━━━━\u001b[0m\u001b[37m\u001b[0m \u001b[1m1s\u001b[0m 6ms/step - accuracy: 0.7806 - loss: 0.4532 - val_accuracy: 0.7736 - val_loss: 0.4618\n",
      "Epoch 52/80\n",
      "\u001b[1m133/133\u001b[0m \u001b[32m━━━━━━━━━━━━━━━━━━━━\u001b[0m\u001b[37m\u001b[0m \u001b[1m1s\u001b[0m 6ms/step - accuracy: 0.7783 - loss: 0.4546 - val_accuracy: 0.7730 - val_loss: 0.4615\n",
      "Epoch 53/80\n",
      "\u001b[1m133/133\u001b[0m \u001b[32m━━━━━━━━━━━━━━━━━━━━\u001b[0m\u001b[37m\u001b[0m \u001b[1m1s\u001b[0m 6ms/step - accuracy: 0.7788 - loss: 0.4525 - val_accuracy: 0.7760 - val_loss: 0.4606\n",
      "Epoch 54/80\n",
      "\u001b[1m133/133\u001b[0m \u001b[32m━━━━━━━━━━━━━━━━━━━━\u001b[0m\u001b[37m\u001b[0m \u001b[1m1s\u001b[0m 5ms/step - accuracy: 0.7818 - loss: 0.4497 - val_accuracy: 0.7791 - val_loss: 0.4573\n",
      "Epoch 55/80\n",
      "\u001b[1m133/133\u001b[0m \u001b[32m━━━━━━━━━━━━━━━━━━━━\u001b[0m\u001b[37m\u001b[0m \u001b[1m1s\u001b[0m 5ms/step - accuracy: 0.7768 - loss: 0.4526 - val_accuracy: 0.7748 - val_loss: 0.4578\n",
      "Epoch 56/80\n",
      "\u001b[1m133/133\u001b[0m \u001b[32m━━━━━━━━━━━━━━━━━━━━\u001b[0m\u001b[37m\u001b[0m \u001b[1m1s\u001b[0m 5ms/step - accuracy: 0.7845 - loss: 0.4505 - val_accuracy: 0.7718 - val_loss: 0.4615\n",
      "Epoch 57/80\n",
      "\u001b[1m133/133\u001b[0m \u001b[32m━━━━━━━━━━━━━━━━━━━━\u001b[0m\u001b[37m\u001b[0m \u001b[1m1s\u001b[0m 6ms/step - accuracy: 0.7813 - loss: 0.4495 - val_accuracy: 0.7845 - val_loss: 0.4602\n",
      "Epoch 58/80\n",
      "\u001b[1m133/133\u001b[0m \u001b[32m━━━━━━━━━━━━━━━━━━━━\u001b[0m\u001b[37m\u001b[0m \u001b[1m1s\u001b[0m 7ms/step - accuracy: 0.7819 - loss: 0.4507 - val_accuracy: 0.7833 - val_loss: 0.4568\n",
      "Epoch 59/80\n",
      "\u001b[1m133/133\u001b[0m \u001b[32m━━━━━━━━━━━━━━━━━━━━\u001b[0m\u001b[37m\u001b[0m \u001b[1m1s\u001b[0m 5ms/step - accuracy: 0.7830 - loss: 0.4498 - val_accuracy: 0.7797 - val_loss: 0.4572\n",
      "Epoch 60/80\n",
      "\u001b[1m133/133\u001b[0m \u001b[32m━━━━━━━━━━━━━━━━━━━━\u001b[0m\u001b[37m\u001b[0m \u001b[1m1s\u001b[0m 6ms/step - accuracy: 0.7834 - loss: 0.4492 - val_accuracy: 0.7803 - val_loss: 0.4558\n",
      "Epoch 61/80\n",
      "\u001b[1m133/133\u001b[0m \u001b[32m━━━━━━━━━━━━━━━━━━━━\u001b[0m\u001b[37m\u001b[0m \u001b[1m1s\u001b[0m 5ms/step - accuracy: 0.7836 - loss: 0.4471 - val_accuracy: 0.7815 - val_loss: 0.4551\n",
      "Epoch 62/80\n",
      "\u001b[1m133/133\u001b[0m \u001b[32m━━━━━━━━━━━━━━━━━━━━\u001b[0m\u001b[37m\u001b[0m \u001b[1m1s\u001b[0m 6ms/step - accuracy: 0.7830 - loss: 0.4478 - val_accuracy: 0.7893 - val_loss: 0.4597\n",
      "Epoch 63/80\n",
      "\u001b[1m133/133\u001b[0m \u001b[32m━━━━━━━━━━━━━━━━━━━━\u001b[0m\u001b[37m\u001b[0m \u001b[1m1s\u001b[0m 5ms/step - accuracy: 0.7842 - loss: 0.4477 - val_accuracy: 0.7730 - val_loss: 0.4579\n",
      "Epoch 64/80\n",
      "\u001b[1m133/133\u001b[0m \u001b[32m━━━━━━━━━━━━━━━━━━━━\u001b[0m\u001b[37m\u001b[0m \u001b[1m1s\u001b[0m 6ms/step - accuracy: 0.7884 - loss: 0.4473 - val_accuracy: 0.7772 - val_loss: 0.4548\n",
      "Epoch 65/80\n",
      "\u001b[1m133/133\u001b[0m \u001b[32m━━━━━━━━━━━━━━━━━━━━\u001b[0m\u001b[37m\u001b[0m \u001b[1m1s\u001b[0m 6ms/step - accuracy: 0.7833 - loss: 0.4454 - val_accuracy: 0.7766 - val_loss: 0.4565\n",
      "Epoch 66/80\n",
      "\u001b[1m133/133\u001b[0m \u001b[32m━━━━━━━━━━━━━━━━━━━━\u001b[0m\u001b[37m\u001b[0m \u001b[1m1s\u001b[0m 5ms/step - accuracy: 0.7865 - loss: 0.4450 - val_accuracy: 0.7839 - val_loss: 0.4534\n",
      "Epoch 67/80\n",
      "\u001b[1m133/133\u001b[0m \u001b[32m━━━━━━━━━━━━━━━━━━━━\u001b[0m\u001b[37m\u001b[0m \u001b[1m1s\u001b[0m 5ms/step - accuracy: 0.7856 - loss: 0.4431 - val_accuracy: 0.7809 - val_loss: 0.4542\n",
      "Epoch 68/80\n",
      "\u001b[1m133/133\u001b[0m \u001b[32m━━━━━━━━━━━━━━━━━━━━\u001b[0m\u001b[37m\u001b[0m \u001b[1m1s\u001b[0m 5ms/step - accuracy: 0.7884 - loss: 0.4418 - val_accuracy: 0.7839 - val_loss: 0.4566\n",
      "Epoch 69/80\n",
      "\u001b[1m133/133\u001b[0m \u001b[32m━━━━━━━━━━━━━━━━━━━━\u001b[0m\u001b[37m\u001b[0m \u001b[1m1s\u001b[0m 7ms/step - accuracy: 0.7895 - loss: 0.4418 - val_accuracy: 0.7857 - val_loss: 0.4528\n",
      "Epoch 70/80\n",
      "\u001b[1m133/133\u001b[0m \u001b[32m━━━━━━━━━━━━━━━━━━━━\u001b[0m\u001b[37m\u001b[0m \u001b[1m1s\u001b[0m 5ms/step - accuracy: 0.7896 - loss: 0.4405 - val_accuracy: 0.7803 - val_loss: 0.4567\n",
      "Epoch 71/80\n",
      "\u001b[1m133/133\u001b[0m \u001b[32m━━━━━━━━━━━━━━━━━━━━\u001b[0m\u001b[37m\u001b[0m \u001b[1m1s\u001b[0m 6ms/step - accuracy: 0.7883 - loss: 0.4402 - val_accuracy: 0.7785 - val_loss: 0.4548\n",
      "Epoch 72/80\n",
      "\u001b[1m133/133\u001b[0m \u001b[32m━━━━━━━━━━━━━━━━━━━━\u001b[0m\u001b[37m\u001b[0m \u001b[1m1s\u001b[0m 5ms/step - accuracy: 0.7910 - loss: 0.4388 - val_accuracy: 0.7827 - val_loss: 0.4524\n",
      "Epoch 73/80\n",
      "\u001b[1m133/133\u001b[0m \u001b[32m━━━━━━━━━━━━━━━━━━━━\u001b[0m\u001b[37m\u001b[0m \u001b[1m1s\u001b[0m 5ms/step - accuracy: 0.7896 - loss: 0.4388 - val_accuracy: 0.7803 - val_loss: 0.4531\n",
      "Epoch 74/80\n",
      "\u001b[1m133/133\u001b[0m \u001b[32m━━━━━━━━━━━━━━━━━━━━\u001b[0m\u001b[37m\u001b[0m \u001b[1m1s\u001b[0m 6ms/step - accuracy: 0.7863 - loss: 0.4406 - val_accuracy: 0.7869 - val_loss: 0.4552\n",
      "Epoch 75/80\n",
      "\u001b[1m133/133\u001b[0m \u001b[32m━━━━━━━━━━━━━━━━━━━━\u001b[0m\u001b[37m\u001b[0m \u001b[1m1s\u001b[0m 5ms/step - accuracy: 0.7900 - loss: 0.4376 - val_accuracy: 0.7821 - val_loss: 0.4513\n",
      "Epoch 76/80\n",
      "\u001b[1m133/133\u001b[0m \u001b[32m━━━━━━━━━━━━━━━━━━━━\u001b[0m\u001b[37m\u001b[0m \u001b[1m1s\u001b[0m 6ms/step - accuracy: 0.7916 - loss: 0.4364 - val_accuracy: 0.7863 - val_loss: 0.4509\n",
      "Epoch 77/80\n",
      "\u001b[1m133/133\u001b[0m \u001b[32m━━━━━━━━━━━━━━━━━━━━\u001b[0m\u001b[37m\u001b[0m \u001b[1m1s\u001b[0m 5ms/step - accuracy: 0.7890 - loss: 0.4350 - val_accuracy: 0.7803 - val_loss: 0.4497\n",
      "Epoch 78/80\n",
      "\u001b[1m133/133\u001b[0m \u001b[32m━━━━━━━━━━━━━━━━━━━━\u001b[0m\u001b[37m\u001b[0m \u001b[1m1s\u001b[0m 6ms/step - accuracy: 0.7912 - loss: 0.4377 - val_accuracy: 0.7754 - val_loss: 0.4536\n",
      "Epoch 79/80\n",
      "\u001b[1m133/133\u001b[0m \u001b[32m━━━━━━━━━━━━━━━━━━━━\u001b[0m\u001b[37m\u001b[0m \u001b[1m1s\u001b[0m 6ms/step - accuracy: 0.7909 - loss: 0.4359 - val_accuracy: 0.7766 - val_loss: 0.4551\n",
      "Epoch 80/80\n",
      "\u001b[1m133/133\u001b[0m \u001b[32m━━━━━━━━━━━━━━━━━━━━\u001b[0m\u001b[37m\u001b[0m \u001b[1m1s\u001b[0m 7ms/step - accuracy: 0.7878 - loss: 0.4346 - val_accuracy: 0.7887 - val_loss: 0.4491\n"
     ]
    }
   ],
   "source": [
    "import tensorflow as tf\n",
    "\n",
    "model = tf.keras.models.Sequential([\n",
    "    tf.keras.layers.LSTM(100, input_shape=(1, X_train.shape[1]), return_sequences=False),\n",
    "    tf.keras.layers.Dropout(0.2),\n",
    "    tf.keras.layers.Dense(50, activation='relu'),\n",
    "    tf.keras.layers.Dense(1, activation='sigmoid')\n",
    "])\n",
    "\n",
    "model.compile(optimizer='adam', loss='binary_crossentropy', metrics=['accuracy'])\n",
    "\n",
    "# Train\n",
    "history = model.fit(X_train_lstm, y_train, epochs=80, batch_size=50, validation_split=0.2, verbose=1)\n"
   ]
  }
 ],
 "metadata": {
  "kernelspec": {
   "display_name": "venv",
   "language": "python",
   "name": "python3"
  },
  "language_info": {
   "codemirror_mode": {
    "name": "ipython",
    "version": 3
   },
   "file_extension": ".py",
   "mimetype": "text/x-python",
   "name": "python",
   "nbconvert_exporter": "python",
   "pygments_lexer": "ipython3",
   "version": "3.12.3"
  }
 },
 "nbformat": 4,
 "nbformat_minor": 5
}
