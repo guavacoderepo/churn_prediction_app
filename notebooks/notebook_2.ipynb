{
 "cells": [
  {
   "cell_type": "code",
   "execution_count": 1,
   "id": "e1f008f6",
   "metadata": {},
   "outputs": [],
   "source": [
    "import mlflow\n",
    "import numpy as np\n",
    "from sklearn.metrics import accuracy_score, f1_score, precision_score, recall_score, classification_report, roc_auc_score, confusion_matrix, ConfusionMatrixDisplay\n",
    "from sklearn.tree import DecisionTreeClassifier\n",
    "from mlflow.models import infer_signature"
   ]
  },
  {
   "cell_type": "markdown",
   "id": "1fdf0eff",
   "metadata": {},
   "source": [
    "### Connect to mlflow"
   ]
  },
  {
   "cell_type": "code",
   "execution_count": 2,
   "id": "252ed5ad",
   "metadata": {},
   "outputs": [],
   "source": [
    "tracking_uri = \"http://127.0.0.1:8080\"\n",
    "mlflow.set_tracking_uri(tracking_uri)"
   ]
  },
  {
   "cell_type": "code",
   "execution_count": 3,
   "id": "dba9be09",
   "metadata": {},
   "outputs": [],
   "source": [
    "experiment_name = \"churn_prediction\"\n",
    "artifact_loc = \"data/churn_pred_models\"\n",
    "tags = {\n",
    "    \"mlflow.note.content\": f\"Customer churn prediction end-to-end pipeline using mlflow\",\n",
    "    \"team\": \"AI engineering team\",\n",
    "    \"project\": f\"churn_prediction_end_to_end project\",\n",
    "}\n",
    "\n",
    "exp = mlflow.get_experiment_by_name(experiment_name)\n",
    "if exp is None:\n",
    "    mlflow.create_experiment(name=experiment_name, tags=tags, artifact_location=artifact_loc)\n",
    "experiment_id = mlflow.get_experiment_by_name(experiment_name).experiment_id"
   ]
  },
  {
   "cell_type": "markdown",
   "id": "d8e11fbb",
   "metadata": {},
   "source": [
    "### Load dataset for training model\n"
   ]
  },
  {
   "cell_type": "code",
   "execution_count": 29,
   "id": "9228b8e7",
   "metadata": {},
   "outputs": [],
   "source": [
    "X_train = np.load(\"../src/data/X_train_scaled.npy\")\n",
    "X_test = np.load(\"../src/data/X_test_scaled.npy\")\n",
    "y_train = np.load(\"../src/data/y_train.npy\", allow_pickle=True)\n",
    "y_test = np.load(\"../src/data/y_test.npy\", allow_pickle=True)"
   ]
  },
  {
   "cell_type": "markdown",
   "id": "fd957cf3",
   "metadata": {},
   "source": [
    "### Mlflow helper function"
   ]
  },
  {
   "cell_type": "code",
   "execution_count": 128,
   "id": "300cfc38",
   "metadata": {},
   "outputs": [],
   "source": [
    "run_name = \"churn_pred\"\n",
    "\n",
    "def mlflow_logging(params, metrics, model_name, sk_model):\n",
    "    with mlflow.start_run(run_name=run_name, experiment_id=experiment_id):\n",
    "\n",
    "        # Log to mlflow\n",
    "        for key, val in params.items():\n",
    "            mlflow.log_param(key=key, value=val)\n",
    "\n",
    "        for key, val in metrics.items():\n",
    "            mlflow.log_metric(key=key, value=val)\n",
    "\n",
    "        tags = {\n",
    "            \"mlflow.note.content\": f\"{model_name} training outcome\",\n",
    "            \"model_name\": model_name\n",
    "        }\n",
    "\n",
    "        for key, val in tags.items():\n",
    "            mlflow.set_tag(key=key, value=val)\n",
    "\n",
    "        mlflow.sklearn.log_model(\n",
    "            sk_model=sk_model, \n",
    "            input_example=X_test[:5],\n",
    "            registered_model_name=f\"{model_name}_models\", \n",
    "            signature=infer_signature(X_train[:10], sk_model.predict(X_test[:5])),\n",
    "            name=f\"{model_name}_artifact\",\n",
    "        )\n",
    "        \n",
    "        print(f\"✅ Done logging {model_name}\")"
   ]
  },
  {
   "cell_type": "code",
   "execution_count": 5,
   "id": "2e0b5606",
   "metadata": {},
   "outputs": [],
   "source": [
    "rs = 42 # Random state"
   ]
  },
  {
   "cell_type": "markdown",
   "id": "cc7f5e0e",
   "metadata": {},
   "source": [
    "### Let's build a base model using decision tree"
   ]
  },
  {
   "cell_type": "code",
   "execution_count": 30,
   "id": "4b73cf73",
   "metadata": {},
   "outputs": [
    {
     "name": "stdout",
     "output_type": "stream",
     "text": [
      "{'accuracy': 0.8794772507260407, 'f1': 0.8880898876404495, 'recall': 0.946360153256705, 'precision': 0.8365791701947503}\n"
     ]
    }
   ],
   "source": [
    "model_name = \"decision_tree\"\n",
    "\n",
    "# Train out model\n",
    "dtc_m1_params = {\"max_depth\":None, \"criterion\":'gini', \"random_state\":rs}\n",
    "dtc_m1_model = DecisionTreeClassifier(**dtc_m1_params)\n",
    "\n",
    "dtc_m1_model = dtc_m1_model.fit(X=X_train, y=y_train)\n",
    "y_pred = dtc_m1_model.predict(X=X_test)\n",
    "\n",
    "# Metrics\n",
    "dtc_m1_metrics = {\n",
    "    \"accuracy\": accuracy_score(y_test, y_pred),\n",
    "    \"f1\": f1_score(y_test, y_pred),\n",
    "    \"recall\": recall_score(y_test, y_pred),\n",
    "    \"precision\": precision_score(y_test, y_pred)\n",
    "}\n",
    "\n",
    "print(dtc_m1_metrics)\n",
    "# Logging to mlflow\n",
    "# mlflow_logging(dtc_m1_params, dtc_m1_metrics, model_name, dtc_m1_model)"
   ]
  },
  {
   "cell_type": "code",
   "execution_count": 31,
   "id": "28dee5b5",
   "metadata": {},
   "outputs": [
    {
     "name": "stdout",
     "output_type": "stream",
     "text": [
      "              precision    recall  f1-score   support\n",
      "\n",
      "           0       0.94      0.81      0.87      1022\n",
      "           1       0.84      0.95      0.89      1044\n",
      "\n",
      "    accuracy                           0.88      2066\n",
      "   macro avg       0.89      0.88      0.88      2066\n",
      "weighted avg       0.89      0.88      0.88      2066\n",
      "\n",
      "ROC-AUC: 0.8787573760412684\n"
     ]
    },
    {
     "data": {
      "image/png": "[encoded data removed]",
      "text/plain": [
       "<Figure size 640x480 with 2 Axes>"
      ]
     },
     "metadata": {},
     "output_type": "display_data"
    }
   ],
   "source": [
    "print(classification_report(y_test, y_pred))\n",
    "print(\"ROC-AUC:\", roc_auc_score(y_test, y_pred))\n",
    "cm = confusion_matrix(y_test, y_pred)\n",
    "\n",
    "disp = ConfusionMatrixDisplay(confusion_matrix=cm, display_labels=dtc_m1_model.classes_)\n",
    "disp.plot();"
   ]
  },
  {
   "cell_type": "markdown",
   "id": "0a1243da",
   "metadata": {},
   "source": [
    "# Now let's fine tune hyperparametr and retrain"
   ]
  },
  {
   "cell_type": "code",
   "execution_count": 15,
   "id": "97bfcbd1",
   "metadata": {},
   "outputs": [],
   "source": [
    "import optuna\n",
    "optuna.logging.set_verbosity(optuna.logging.WARNING) \n",
    "\n",
    "n_trials = 100\n",
    "\n",
    "def objective(trial):\n",
    "    # Suggest hyperparameters\n",
    "    params = {\n",
    "        \"max_depth\": trial.suggest_int(\"max_depth\", 2, 20),\n",
    "        \"min_samples_split\": trial.suggest_int(\"min_samples_split\", 2, 20),\n",
    "        \"min_samples_leaf\": trial.suggest_int(\"min_samples_leaf\", 1, 20),\n",
    "        \"criterion\": trial.suggest_categorical(\"criterion\", [\"entropy\", \"gini\"]),\n",
    "        \"random_state\":rs\n",
    "    }\n",
    "\n",
    "    model = DecisionTreeClassifier(**params)\n",
    "    model = model.fit(X=X_train, y=y_train)\n",
    "    y_pred = model.predict(X=X_test)\n",
    "\n",
    "    acc = accuracy_score(y_test, y_pred)\n",
    "\n",
    "    return acc\n",
    "\n",
    "study = optuna.create_study(direction=\"maximize\")\n",
    "study.optimize(objective, n_trials=n_trials, n_jobs=1)"
   ]
  },
  {
   "cell_type": "code",
   "execution_count": 16,
   "id": "fc651cdf",
   "metadata": {},
   "outputs": [
    {
     "name": "stdout",
     "output_type": "stream",
     "text": [
      "{'accuracy': 0.8731848983543078, 'f1': 0.8825112107623319, 'recall': 0.9425287356321839, 'precision': 0.8296795952782462}\n"
     ]
    }
   ],
   "source": [
    "dtc_m2_model = DecisionTreeClassifier(**study.best_params)\n",
    "dtc_m2_model = dtc_m2_model.fit(X=X_train, y=y_train)\n",
    "y_pred = dtc_m2_model.predict(X=X_test)\n",
    "\n",
    "# Metrics\n",
    "dtc_m2_metrics = {\n",
    "    \"accuracy\": accuracy_score(y_test, y_pred),\n",
    "    \"f1\": f1_score(y_test, y_pred),\n",
    "    \"recall\": recall_score(y_test, y_pred),\n",
    "    \"precision\": precision_score(y_test, y_pred)\n",
    "}\n",
    "\n",
    "print(dtc_m2_metrics)\n",
    "# Logging to mlflow\n",
    "# mlflow_logging(study.best_params, dtc_m2_metrics, model_name, dtc_m2_model)"
   ]
  },
  {
   "cell_type": "code",
   "execution_count": 17,
   "id": "5b475004",
   "metadata": {},
   "outputs": [
    {
     "name": "stdout",
     "output_type": "stream",
     "text": [
      "              precision    recall  f1-score   support\n",
      "\n",
      "           0       0.93      0.80      0.86      1022\n",
      "           1       0.83      0.94      0.88      1044\n",
      "\n",
      "    accuracy                           0.87      2066\n",
      "   macro avg       0.88      0.87      0.87      2066\n",
      "weighted avg       0.88      0.87      0.87      2066\n",
      "\n",
      "ROC-AUC: 0.8724385361135479\n"
     ]
    },
    {
     "data": {
      "image/png": "[encoded data removed]",
      "text/plain": [
       "<Figure size 640x480 with 2 Axes>"
      ]
     },
     "metadata": {},
     "output_type": "display_data"
    }
   ],
   "source": [
    "print(classification_report(y_test, y_pred))\n",
    "print(\"ROC-AUC:\", roc_auc_score(y_test, y_pred))\n",
    "cm = confusion_matrix(y_test, y_pred)\n",
    "\n",
    "disp = ConfusionMatrixDisplay(confusion_matrix=cm, display_labels=dtc_m2_model.classes_)\n",
    "disp.plot();"
   ]
  },
  {
   "cell_type": "markdown",
   "id": "89a9ede4",
   "metadata": {},
   "source": [
    "## Lets try random forest"
   ]
  },
  {
   "cell_type": "code",
   "execution_count": 18,
   "id": "f6fb5480",
   "metadata": {},
   "outputs": [
    {
     "name": "stdout",
     "output_type": "stream",
     "text": [
      "{'accuracy': 0.8407550822846079, 'f1': 0.8533214444939813, 'recall': 0.9166666666666666, 'precision': 0.7981651376146789}\n"
     ]
    }
   ],
   "source": [
    "from sklearn.ensemble import RandomForestClassifier\n",
    "\n",
    "model_name = \"random_forest\"\n",
    "\n",
    "rfc_m1_params = {\n",
    "    \"n_estimators\":50, \"criterion\":\"gini\", \"max_depth\":10, \"class_weight\":'balanced_subsample', \"random_state\":rs\n",
    "}\n",
    "\n",
    "y_train_rev = y_train.ravel()\n",
    "y_test_rev = y_test.ravel()\n",
    "\n",
    "rfc_m1_model = RandomForestClassifier(**rfc_m1_params)\n",
    "rfc_m1_model = rfc_m1_model.fit(X_train, y_train_rev)\n",
    "y_pred = rfc_m1_model.predict(X_test)\n",
    "\n",
    "# Metrics\n",
    "rfc_m1_metrics = {\n",
    "    \"accuracy\": accuracy_score(y_test_rev, y_pred),\n",
    "    \"f1\": f1_score(y_test_rev, y_pred),\n",
    "    \"recall\": recall_score(y_test_rev, y_pred),\n",
    "    \"precision\": precision_score(y_test_rev, y_pred)\n",
    "}\n",
    "\n",
    "print(rfc_m1_metrics)\n",
    "# Logging to mlflow\n",
    "# mlflow_logging(rfc_m1_metrics, rfc_m1_metrics, model_name, rfc_m1_model)"
   ]
  },
  {
   "cell_type": "code",
   "execution_count": 19,
   "id": "ac00e761",
   "metadata": {},
   "outputs": [
    {
     "name": "stdout",
     "output_type": "stream",
     "text": [
      "              precision    recall  f1-score   support\n",
      "\n",
      "           0       0.90      0.76      0.83      1022\n",
      "           1       0.80      0.92      0.85      1044\n",
      "\n",
      "    accuracy                           0.84      2066\n",
      "   macro avg       0.85      0.84      0.84      2066\n",
      "weighted avg       0.85      0.84      0.84      2066\n",
      "\n",
      "ROC-AUC: 0.8399380300065231\n"
     ]
    },
    {
     "data": {
      "image/png": "[encoded data removed]",
      "text/plain": [
       "<Figure size 640x480 with 2 Axes>"
      ]
     },
     "metadata": {},
     "output_type": "display_data"
    }
   ],
   "source": [
    "print(classification_report(y_test, y_pred))\n",
    "print(\"ROC-AUC:\", roc_auc_score(y_test, y_pred))\n",
    "cm = confusion_matrix(y_test, y_pred)\n",
    "\n",
    "disp = ConfusionMatrixDisplay(confusion_matrix=cm, display_labels=rfc_m1_model.classes_)\n",
    "disp.plot();"
   ]
  },
  {
   "cell_type": "markdown",
   "id": "291f68ef",
   "metadata": {},
   "source": [
    "## Let's optimize the hyperparameters "
   ]
  },
  {
   "cell_type": "code",
   "execution_count": 23,
   "id": "39a337d2",
   "metadata": {},
   "outputs": [],
   "source": [
    "def objective(trial):\n",
    "    # Suggest hyperparameters\n",
    "    params = {\n",
    "        \"max_depth\": trial.suggest_int(\"max_depth\", 2, 20),\n",
    "        \"n_estimators\": trial.suggest_int(\"n_estimators\", 100, 300),\n",
    "        \"min_samples_leaf\": trial.suggest_int(\"min_samples_leaf\", 1, 20),\n",
    "        \"min_samples_split\": trial.suggest_int(\"min_samples_split\", 2, 20),\n",
    "        \"criterion\": trial.suggest_categorical(\"criterion\", [\"entropy\", \"gini\", \"log_loss\"]),\n",
    "        \"random_state\":rs\n",
    "    }\n",
    "\n",
    "    model = RandomForestClassifier(**params, n_jobs=-1)\n",
    "    model = model.fit(X_train, y_train_rev)\n",
    "    y_pred = model.predict(X_test)\n",
    "\n",
    "    acc = accuracy_score(y_test_rev, y_pred)\n",
    "\n",
    "    return acc\n",
    "\n",
    "study = optuna.create_study(direction=\"maximize\")\n",
    "study.optimize(objective, n_trials=n_trials, n_jobs=1)"
   ]
  },
  {
   "cell_type": "code",
   "execution_count": 24,
   "id": "69d989fb",
   "metadata": {},
   "outputs": [
    {
     "name": "stdout",
     "output_type": "stream",
     "text": [
      "{'accuracy': 0.8964181994191674, 'f1': 0.9040358744394619, 'recall': 0.9655172413793104, 'precision': 0.8499156829679595}\n"
     ]
    }
   ],
   "source": [
    "rfc_m2_model = RandomForestClassifier(**study.best_params)\n",
    "rfc_m2_model = rfc_m2_model.fit(X=X_train, y=y_train_rev)\n",
    "y_pred = rfc_m2_model.predict(X=X_test)\n",
    "\n",
    "# Metrics\n",
    "rfc_m2_metrics = {\n",
    "    \"accuracy\": accuracy_score(y_test_rev, y_pred),\n",
    "    \"f1\": f1_score(y_test_rev, y_pred),\n",
    "    \"recall\": recall_score(y_test_rev, y_pred),\n",
    "    \"precision\": precision_score(y_test_rev, y_pred)\n",
    "}\n",
    "\n",
    "print(rfc_m2_metrics)\n",
    "# Logging to mlflow\n",
    "# mlflow_logging(study.best_params, rfc_m2_metrics, model_name, rfc_m2_model)"
   ]
  },
  {
   "cell_type": "code",
   "execution_count": 25,
   "id": "080476ac",
   "metadata": {},
   "outputs": [
    {
     "name": "stdout",
     "output_type": "stream",
     "text": [
      "              precision    recall  f1-score   support\n",
      "\n",
      "           0       0.96      0.83      0.89      1022\n",
      "           1       0.85      0.97      0.90      1044\n",
      "\n",
      "    accuracy                           0.90      2066\n",
      "   macro avg       0.90      0.90      0.90      2066\n",
      "weighted avg       0.90      0.90      0.90      2066\n",
      "\n",
      "ROC-AUC: 0.8956744719616709\n"
     ]
    },
    {
     "data": {
      "image/png": "[encoded data removed]",
      "text/plain": [
       "<Figure size 640x480 with 2 Axes>"
      ]
     },
     "metadata": {},
     "output_type": "display_data"
    }
   ],
   "source": [
    "print(classification_report(y_test, y_pred))\n",
    "print(\"ROC-AUC:\", roc_auc_score(y_test, y_pred))\n",
    "cm = confusion_matrix(y_test, y_pred)\n",
    "\n",
    "disp = ConfusionMatrixDisplay(confusion_matrix=cm, display_labels=rfc_m2_model.classes_)\n",
    "disp.plot();"
   ]
  }
 ],
 "metadata": {
  "kernelspec": {
   "display_name": "venv",
   "language": "python",
   "name": "python3"
  },
  "language_info": {
   "codemirror_mode": {
    "name": "ipython",
    "version": 3
   },
   "file_extension": ".py",
   "mimetype": "text/x-python",
   "name": "python",
   "nbconvert_exporter": "python",
   "pygments_lexer": "ipython3",
   "version": "3.12.3"
  }
 },
 "nbformat": 4,
 "nbformat_minor": 5
}
